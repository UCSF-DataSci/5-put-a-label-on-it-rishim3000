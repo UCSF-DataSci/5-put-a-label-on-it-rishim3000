{
 "cells": [
  {
   "cell_type": "code",
   "execution_count": 1,
   "id": "e2360d4c",
   "metadata": {},
   "outputs": [],
   "source": [
    "import pandas as pd\n",
    "import numpy as np\n",
    "import os\n",
    "from sklearn.model_selection import train_test_split\n",
    "from sklearn.linear_model import LogisticRegression\n",
    "from sklearn.metrics import accuracy_score, precision_score, recall_score, f1_score, roc_auc_score, confusion_matrix\n",
    "from sklearn.impute import SimpleImputer"
   ]
  },
  {
   "cell_type": "markdown",
   "id": "097c739f",
   "metadata": {},
   "source": [
    "Part 1 - Loading the data"
   ]
  },
  {
   "cell_type": "code",
   "execution_count": 2,
   "id": "d550f9d6",
   "metadata": {},
   "outputs": [],
   "source": [
    "def load_data(file_path):\n",
    "    \"\"\"\n",
    "    Load the synthetic health data from a CSV file.\n",
    "    \n",
    "    Args:\n",
    "        file_path: Path to the CSV file\n",
    "        \n",
    "    Returns:\n",
    "        DataFrame containing the data\n",
    "    \"\"\"\n",
    "    #reading data\n",
    "    df = pd.read_csv(file_path)\n",
    "    \n",
    "    return df \n",
    "\n",
    "df = load_data(\"/workspaces/5-put-a-label-on-it-rishim3000/data/synthetic_health_data.csv\")\n"
   ]
  },
  {
   "cell_type": "markdown",
   "id": "bd02f612",
   "metadata": {},
   "source": [
    "Part 2 - Data Preparation"
   ]
  },
  {
   "cell_type": "code",
   "execution_count": 3,
   "id": "baa36196",
   "metadata": {},
   "outputs": [],
   "source": [
    "def prepare_data_part1(df, test_size=0.2, random_state=42):\n",
    "    \"\"\"\n",
    "    Prepare data for modeling: select features, split into train/test sets, handle missing values.\n",
    "    \n",
    "    Args:\n",
    "        df: Input DataFrame\n",
    "        test_size: Proportion of data for testing\n",
    "        random_state: Random seed for reproducibility\n",
    "        \n",
    "    Returns:\n",
    "        X_train, X_test, y_train, y_test\n",
    "    \"\"\"\n",
    "    #Feature and target variable selection\n",
    "    features = ['age', 'systolic_bp', 'diastolic_bp', 'glucose_level', 'bmi']\n",
    "    target = ['disease_outcome']\n",
    "\n",
    "    X = df[features]\n",
    "    y = df[target]\n",
    "\n",
    "    #replacing missing values of systolic bp and glucose with mean\n",
    "    imputer = SimpleImputer(strategy = 'mean')\n",
    "\n",
    "    X.loc[:, ['systolic_bp', 'glucose_level']] = imputer.fit_transform(X[['systolic_bp', 'glucose_level']])\n",
    "\n",
    "    #Training-test split\n",
    "    X_train, X_test, y_train, y_test = train_test_split(\n",
    "        X, y, test_size = test_size, random_state = random_state)\n",
    "    \n",
    "    return X_train, X_test, y_train, y_test\n",
    "\n",
    "X_train, X_test, y_train, y_test = prepare_data_part1(df)\n"
   ]
  },
  {
   "cell_type": "markdown",
   "id": "6074cc9c",
   "metadata": {},
   "source": [
    "Part 4 - Model Training"
   ]
  },
  {
   "cell_type": "code",
   "execution_count": 4,
   "id": "bad3671e",
   "metadata": {},
   "outputs": [
    {
     "name": "stderr",
     "output_type": "stream",
     "text": [
      "/home/codespace/.local/lib/python3.12/site-packages/sklearn/utils/validation.py:1408: DataConversionWarning: A column-vector y was passed when a 1d array was expected. Please change the shape of y to (n_samples, ), for example using ravel().\n",
      "  y = column_or_1d(y, warn=True)\n"
     ]
    }
   ],
   "source": [
    "def train_logistic_regression(X_train, y_train):\n",
    "    \"\"\"\n",
    "    Train a logistic regression model.\n",
    "    \n",
    "    Args:\n",
    "        X_train: Training features\n",
    "        y_train: Training target\n",
    "        \n",
    "    Returns:\n",
    "        Trained logistic regression model\n",
    "    \"\"\"\n",
    "    #initialize and train logistic regression model\n",
    "    model = LogisticRegression(max_iter = 10000, random_state=0)\n",
    "    model.fit(X_train, y_train)\n",
    "    \n",
    "    return model\n",
    "\n",
    "model = train_logistic_regression(X_train, y_train)"
   ]
  },
  {
   "cell_type": "markdown",
   "id": "efac12dc",
   "metadata": {},
   "source": [
    "Part 5 - Evaulating Model\n"
   ]
  },
  {
   "cell_type": "code",
   "execution_count": 5,
   "id": "34590bf3",
   "metadata": {},
   "outputs": [
    {
     "data": {
      "text/plain": [
       "{'Accuracy': 0.9167803547066848,\n",
       " 'Precision': 0.6615384615384615,\n",
       " 'Recall': 0.3006993006993007,\n",
       " 'F1': 0.41346153846153844,\n",
       " 'AUC': 0.6420352134637849,\n",
       " 'Confusion_Matrix': array([[1301,   22],\n",
       "        [ 100,   43]])}"
      ]
     },
     "execution_count": 5,
     "metadata": {},
     "output_type": "execute_result"
    }
   ],
   "source": [
    "def calculate_evaluation_metrics(model, X_test, y_test):\n",
    "    \"\"\"\n",
    "    Calculate classification evaluation metrics.\n",
    "    \n",
    "    Args:\n",
    "        model: Trained model\n",
    "        X_test: Test features\n",
    "        y_test: Test target\n",
    "        \n",
    "    Returns:\n",
    "        Dictionary containing accuracy, precision, recall, f1, auc, and confusion_matrix\n",
    "    \"\"\"\n",
    "\n",
    "    y_pred = model.predict(X_test)\n",
    "\n",
    "    metrics_dict = {\n",
    "        'Accuracy': accuracy_score(y_test, y_pred),\n",
    "        'Precision': precision_score(y_test, y_pred),\n",
    "        'Recall': recall_score(y_test, y_pred),\n",
    "        'F1': f1_score(y_test, y_pred),\n",
    "        'AUC': float(roc_auc_score(y_test, y_pred)),\n",
    "        'Confusion_Matrix': confusion_matrix(y_test, y_pred)\n",
    "    }\n",
    "\n",
    "    return metrics_dict\n",
    "\n",
    "calculate_evaluation_metrics(model, X_test, y_test)"
   ]
  },
  {
   "cell_type": "markdown",
   "id": "35739518",
   "metadata": {},
   "source": [
    "Part 6 - Saving Results"
   ]
  },
  {
   "cell_type": "code",
   "execution_count": 8,
   "id": "56185bb2",
   "metadata": {},
   "outputs": [
    {
     "name": "stdout",
     "output_type": "stream",
     "text": [
      "Metrics have been written to 'results/results.txt'.\n"
     ]
    }
   ],
   "source": [
    "# Create results directory and save metrics\n",
    "# YOUR CODE HERE\n",
    "# 1. Create 'results' directory if it doesn't exist\n",
    "# 2. Format metrics as strings\n",
    "# 3. Write metrics to 'results/results_part1.txt'\n",
    "import json\n",
    "metrics_dict = calculate_evaluation_metrics(model, X_test, y_test)\n",
    "\n",
    "os.makedirs('results', exist_ok=True)\n",
    "directory = 'results'\n",
    "filename = 'results.txt'\n",
    "filepath = os.path.join(directory, filename)\n",
    "\n",
    "\n",
    "with open(filepath, 'w') as f:\n",
    "    for key, value in metrics_dict.items():\n",
    "        if isinstance(value, (list, np.ndarray)):\n",
    "            f.write(f\"{key}: {json.dumps(value.tolist() if isinstance(value, np.ndarray) else value)}\\n\")\n",
    "        elif isinstance(value, (float, int)):\n",
    "            f.write(f\"{key}: {value:.4f}\\n\")\n",
    "        else:\n",
    "            f.write(f\"{key}: {str(value)}\\n\")\n",
    "\n",
    "print(f\"Metrics have been written to '{filepath}'.\")\n"
   ]
  },
  {
   "cell_type": "markdown",
   "id": "1b342859",
   "metadata": {},
   "source": [
    "Part 7 - Main Execution"
   ]
  },
  {
   "cell_type": "code",
   "execution_count": 28,
   "id": "f29891eb",
   "metadata": {},
   "outputs": [
    {
     "name": "stdout",
     "output_type": "stream",
     "text": [
      "Accuracy: 0.9167803547066848\n",
      "Precision: 0.6615384615384615\n",
      "Recall: 0.3006993006993007\n",
      "F1: 0.41346153846153844\n",
      "AUC: 0.6420352134637849\n",
      "Confusion Matrix: [[1301   22]\n",
      " [ 100   43]]\n"
     ]
    },
    {
     "name": "stderr",
     "output_type": "stream",
     "text": [
      "/home/codespace/.local/lib/python3.12/site-packages/sklearn/utils/validation.py:1408: DataConversionWarning: A column-vector y was passed when a 1d array was expected. Please change the shape of y to (n_samples, ), for example using ravel().\n",
      "  y = column_or_1d(y, warn=True)\n"
     ]
    }
   ],
   "source": [
    "if __name__ == \"__main__\":\n",
    "    # 1. Load data\n",
    "    data_file = 'data/synthetic_health_data.csv'\n",
    "    df = load_data(data_file)\n",
    "    \n",
    "    # 2. Prepare data\n",
    "    X_train, X_test, y_train, y_test = prepare_data_part1(df)\n",
    "    \n",
    "    # 3. Train model\n",
    "    model = train_logistic_regression(X_train, y_train)\n",
    "    \n",
    "    # 4. Evaluate model\n",
    "    metrics = calculate_evaluation_metrics(model, X_test, y_test)\n",
    "    \n",
    "    # 5. Print metrics\n",
    "    for metric, value in metrics.items():\n",
    "        if metric != 'confusion_matrix':\n",
    "            print(f\"{metric}: {value}\")\n",
    "    \n",
    "    #6. Saving Results\n",
    "    metrics_list = []\n",
    "\n",
    "    for key in metrics:\n",
    "        metrics[key] = str(metrics[key]).replace('\\n', '')\n",
    "        metrics_list.append(metrics[key])\n",
    "\n",
    "    metrics_str = str(metrics_list)\n",
    "\n",
    "    os.makedirs('results', exist_ok=True)\n",
    "    directory = 'results'\n",
    "    filename = 'results.txt'\n",
    "    filepath = os.path.join(directory, filename)\n",
    "\n",
    "    with open(filepath, \"w\") as file:\n",
    "        file.write(metrics_str)\n",
    "        file.close()"
   ]
  },
  {
   "cell_type": "markdown",
   "id": "b08f092f",
   "metadata": {},
   "source": [
    "Part 8 - Interpret Results"
   ]
  },
  {
   "cell_type": "code",
   "execution_count": null,
   "id": "00a328ff",
   "metadata": {},
   "outputs": [],
   "source": []
  }
 ],
 "metadata": {
  "kernelspec": {
   "display_name": "Python 3",
   "language": "python",
   "name": "python3"
  },
  "language_info": {
   "codemirror_mode": {
    "name": "ipython",
    "version": 3
   },
   "file_extension": ".py",
   "mimetype": "text/x-python",
   "name": "python",
   "nbconvert_exporter": "python",
   "pygments_lexer": "ipython3",
   "version": "3.12.1"
  }
 },
 "nbformat": 4,
 "nbformat_minor": 5
}
